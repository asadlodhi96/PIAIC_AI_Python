{
 "cells": [
  {
   "cell_type": "markdown",
   "metadata": {},
   "source": [
    "# Chapter 20 To Chapter 34\n",
    "\n",
    "# Chapter 20 : Tuple\n",
    "### Tuples are immutable means once initialized they can't be modify and if you really want to modify so you have to redefine the tuple.\n",
    "### It is similar to read only type.\n",
    "### one can only read the value of tuple by using index but can't modify , delete or pop.\n",
    "### Tuples are used when you have to define a constant list. And you are confident that it will not change in any way"
   ]
  },
  {
   "cell_type": "code",
   "execution_count": 7,
   "metadata": {},
   "outputs": [
    {
     "name": "stdout",
     "output_type": "stream",
     "text": [
      "Enter the number to know the month name = 8\n",
      "the 8 month is August\n"
     ]
    }
   ],
   "source": [
    "# We are using tuple for months because we are confident that there will be no any change in months name and order\n",
    "months = (\"January\",\"Feburary\",\"March\",\"April\",\"May\",\"June\",\"July\",\"August\",\"September\",\"October\",\"November\",\"December\")\n",
    "inp = int(input(\"Enter the number to know the month name = \"))\n",
    "print(f\"the {inp} month is {months[(inp-1)]}\")"
   ]
  },
  {
   "cell_type": "code",
   "execution_count": 8,
   "metadata": {},
   "outputs": [
    {
     "ename": "TypeError",
     "evalue": "'tuple' object does not support item assignment",
     "output_type": "error",
     "traceback": [
      "\u001b[1;31m---------------------------------------------------------------------------\u001b[0m",
      "\u001b[1;31mTypeError\u001b[0m                                 Traceback (most recent call last)",
      "\u001b[1;32m<ipython-input-8-dc76ff7e9db5>\u001b[0m in \u001b[0;36m<module>\u001b[1;34m\u001b[0m\n\u001b[0;32m      1\u001b[0m \u001b[1;31m#We can't perform add , insert , modify , delete or pop operation on tuples.\u001b[0m\u001b[1;33m\u001b[0m\u001b[1;33m\u001b[0m\u001b[1;33m\u001b[0m\u001b[0m\n\u001b[0;32m      2\u001b[0m \u001b[1;31m#We can only read value of tuple otherwise it will generate error.\u001b[0m\u001b[1;33m\u001b[0m\u001b[1;33m\u001b[0m\u001b[1;33m\u001b[0m\u001b[0m\n\u001b[1;32m----> 3\u001b[1;33m \u001b[0mmonths\u001b[0m\u001b[1;33m[\u001b[0m\u001b[1;36m0\u001b[0m\u001b[1;33m]\u001b[0m \u001b[1;33m=\u001b[0m \u001b[1;34m\"March\"\u001b[0m\u001b[1;33m\u001b[0m\u001b[1;33m\u001b[0m\u001b[0m\n\u001b[0m",
      "\u001b[1;31mTypeError\u001b[0m: 'tuple' object does not support item assignment"
     ]
    }
   ],
   "source": [
    "#We can't perform add , insert , modify , delete or pop operation on tuples.\n",
    "#We can only read value of tuple otherwise it will generate error.\n",
    "months[0] = \"March\""
   ]
  },
  {
   "cell_type": "code",
   "execution_count": 10,
   "metadata": {},
   "outputs": [
    {
     "name": "stdout",
     "output_type": "stream",
     "text": [
      "1\n"
     ]
    }
   ],
   "source": [
    "# Two Supported Operations of Tuples are count and index\n",
    "#Count Operation (Return number of occurance of value)\n",
    "print(months.count(\"August\"))"
   ]
  },
  {
   "cell_type": "code",
   "execution_count": 11,
   "metadata": {},
   "outputs": [
    {
     "name": "stdout",
     "output_type": "stream",
     "text": [
      "7\n"
     ]
    }
   ],
   "source": [
    "#Index operation (Return the index of value)\n",
    "print(months.index(\"August\"))"
   ]
  },
  {
   "cell_type": "markdown",
   "metadata": {},
   "source": [
    "# Chapter 21 : For loops\n",
    "### Loops are used to perform repeated tasks."
   ]
  },
  {
   "cell_type": "code",
   "execution_count": 17,
   "metadata": {},
   "outputs": [
    {
     "name": "stdout",
     "output_type": "stream",
     "text": [
      "Enter your city name = islamabad\n",
      "Your city is one of cleanest city\n"
     ]
    }
   ],
   "source": [
    "cleanest_cities = ['lahore','islamabad','sawat']\n",
    "inp = input(\"Enter your city name = \").lower()\n",
    "for clean_city in cleanest_cities:     #Similar to foreach loop. Iterations through all the values one at a time\n",
    "    if(inp == clean_city):\n",
    "        print(\"It is one of the cleanest cities\")\n",
    "        break"
   ]
  },
  {
   "cell_type": "code",
   "execution_count": 18,
   "metadata": {},
   "outputs": [
    {
     "name": "stdout",
     "output_type": "stream",
     "text": [
      "Enter number to print table = 6\n",
      "6 x 1 = 6\n",
      "6 x 2 = 12\n",
      "6 x 3 = 18\n",
      "6 x 4 = 24\n",
      "6 x 5 = 30\n",
      "6 x 6 = 36\n",
      "6 x 7 = 42\n",
      "6 x 8 = 48\n",
      "6 x 9 = 54\n",
      "6 x 10 = 60\n"
     ]
    }
   ],
   "source": [
    "#Example : Print table using for loop\n",
    "inp = int(input(\"Enter number to print table = \"))\n",
    "for i in range(1,11):\n",
    "    print(f\"{inp} x {i} = {inp*i}\")"
   ]
  },
  {
   "cell_type": "markdown",
   "metadata": {},
   "source": [
    "# Chapter 22 : Nested for loops"
   ]
  },
  {
   "cell_type": "code",
   "execution_count": 19,
   "metadata": {},
   "outputs": [
    {
     "name": "stdout",
     "output_type": "stream",
     "text": [
      "Table of 2 : \n",
      "2 x 1 = 2\n",
      "2 x 2 = 4\n",
      "2 x 3 = 6\n",
      "2 x 4 = 8\n",
      "2 x 5 = 10\n",
      "2 x 6 = 12\n",
      "2 x 7 = 14\n",
      "2 x 8 = 16\n",
      "2 x 9 = 18\n",
      "2 x 10 = 20\n",
      "\n",
      "\n",
      "\n",
      "Table of 3 : \n",
      "3 x 1 = 3\n",
      "3 x 2 = 6\n",
      "3 x 3 = 9\n",
      "3 x 4 = 12\n",
      "3 x 5 = 15\n",
      "3 x 6 = 18\n",
      "3 x 7 = 21\n",
      "3 x 8 = 24\n",
      "3 x 9 = 27\n",
      "3 x 10 = 30\n",
      "\n",
      "\n",
      "\n",
      "Table of 4 : \n",
      "4 x 1 = 4\n",
      "4 x 2 = 8\n",
      "4 x 3 = 12\n",
      "4 x 4 = 16\n",
      "4 x 5 = 20\n",
      "4 x 6 = 24\n",
      "4 x 7 = 28\n",
      "4 x 8 = 32\n",
      "4 x 9 = 36\n",
      "4 x 10 = 40\n",
      "\n",
      "\n",
      "\n"
     ]
    }
   ],
   "source": [
    "#Example : Generate Tables from 2 to 4\n",
    "for table in range(2,5):\n",
    "    print(f'Table of {table} : ')\n",
    "    for multiplier in range (1,11):\n",
    "        print(f'{table} x {multiplier} = {table*multiplier}')\n",
    "    print('\\n\\n')"
   ]
  },
  {
   "cell_type": "markdown",
   "metadata": {},
   "source": [
    "# Chapter 23 : Type Conversion"
   ]
  },
  {
   "cell_type": "code",
   "execution_count": 23,
   "metadata": {},
   "outputs": [
    {
     "name": "stdout",
     "output_type": "stream",
     "text": [
      "Enter Age = 24\n",
      "<class 'str'>\n",
      "<class 'int'>\n"
     ]
    }
   ],
   "source": [
    "age = input(\"Enter Age = \")  #Python always takes input in string type\n",
    "print(type(age))\n",
    "age = int(age)\n",
    "print(type(age))            #Converting age from string to integer"
   ]
  },
  {
   "cell_type": "markdown",
   "metadata": {},
   "source": [
    "# Chapter 24 : Changing Case"
   ]
  },
  {
   "cell_type": "code",
   "execution_count": 1,
   "metadata": {},
   "outputs": [
    {
     "name": "stdout",
     "output_type": "stream",
     "text": [
      "Enter String = HellO HoW aRe yOu\n",
      "Upper case = HELLO HOW ARE YOU\n",
      "Lower case = hello how are you\n",
      "Formatted Text with initial as Capital Letter = Hello How Are You\n"
     ]
    }
   ],
   "source": [
    "inp = input('Enter String = ')\n",
    "print('Upper case = {0}'.format(inp.upper()))\n",
    "print('Lower case = {0}'.format(inp.lower()))\n",
    "print('Formatted Text with initial as Capital Letter = {0}'.format(inp.title()))"
   ]
  },
  {
   "cell_type": "markdown",
   "metadata": {},
   "source": [
    "# Chapter 25 : Dictionary\n",
    "### Dictionary work on Key value pairs\n",
    "### To define Dictionary we use {} curly brackets\n",
    "### Dictionary does not understand indexes it only works on key"
   ]
  },
  {
   "cell_type": "code",
   "execution_count": 2,
   "metadata": {},
   "outputs": [],
   "source": [
    "#Dictionary is similar to list such that you can store number of values in dictionary as in list which can be of any data type or you can use multiple datatypes at the same time. \n",
    "#The Difference in dictionary and list is that you can access list items by using index while in dictionary, you can access dictionary items by keys\n",
    "#Dictionary must requires 'Key and value' pair to store an element"
   ]
  },
  {
   "cell_type": "markdown",
   "metadata": {},
   "source": [
    "# Chapter 26 : Dictionary\n",
    "### Creating Dictionary"
   ]
  },
  {
   "cell_type": "code",
   "execution_count": 5,
   "metadata": {},
   "outputs": [],
   "source": [
    "customer_details = {\"first_name\":\"Asad\",\"last_name\":\"Lodhi\",\"address\":\"ABC appartments , XYZ area Karachi , Pakistan\"}"
   ]
  },
  {
   "cell_type": "markdown",
   "metadata": {},
   "source": [
    "# Chapter 27 : Picking Information Out from Dictionary"
   ]
  },
  {
   "cell_type": "code",
   "execution_count": 7,
   "metadata": {},
   "outputs": [
    {
     "name": "stdout",
     "output_type": "stream",
     "text": [
      "Asad\n",
      "Lodhi\n",
      "ABC appartments , XYZ area Karachi , Pakistan\n"
     ]
    }
   ],
   "source": [
    "customer_details = {\"first_name\":\"Asad\",\"last_name\":\"Lodhi\",\"address\":\"ABC appartments , XYZ area Karachi , Pakistan\"}\n",
    "print(customer_details[\"first_name\"])   #Accessing dictionary items by keys\n",
    "print(customer_details[\"last_name\"])\n",
    "print(customer_details[\"address\"])"
   ]
  },
  {
   "cell_type": "markdown",
   "metadata": {},
   "source": [
    "# Chapter 28 : The versatility of keys and values\n",
    "##### In Previous Examples I use 'Key and Values' both string type but it is not necessary\n",
    "##### Either Key or Value can be of any data type , And datatype of key and value can be different for an item"
   ]
  },
  {
   "cell_type": "code",
   "execution_count": 12,
   "metadata": {},
   "outputs": [],
   "source": [
    "customer_details = {\n",
    "    \"name\" : \"Asad\",\n",
    "    \"Age\" : 24,\n",
    "     1 : \"Customer Id\"\n",
    "}"
   ]
  },
  {
   "cell_type": "code",
   "execution_count": 15,
   "metadata": {},
   "outputs": [
    {
     "name": "stdout",
     "output_type": "stream",
     "text": [
      "{'name': 'Asad', 'Age': 24, 1: 'Customer Id'}\n",
      "Customer Id\n",
      "Asad\n"
     ]
    }
   ],
   "source": [
    "print(customer_details)\n",
    "print(customer_details[1])\n",
    "print(customer_details[\"name\"])"
   ]
  },
  {
   "cell_type": "markdown",
   "metadata": {},
   "source": [
    "#  Chapter 29 : Dictionaries: Adding items"
   ]
  },
  {
   "cell_type": "code",
   "execution_count": 17,
   "metadata": {},
   "outputs": [
    {
     "name": "stdout",
     "output_type": "stream",
     "text": [
      "{}\n",
      "{'name': 'Asad Rasheed Lodhi', 'age': 24, 1: \"customer's ID\"}\n"
     ]
    }
   ],
   "source": [
    "#Here is way of inserting items in dictionary.\n",
    "#Let's Consider the same dictionary example as previous but we will add items in dictionary later\n",
    "customer_details = {}\n",
    "print(customer_details)\n",
    "#Initially the list is empty\n",
    "#Now Adding items\n",
    "customer_details[\"name\"] = \"Asad Rasheed Lodhi\"\n",
    "customer_details[\"age\"] = 24\n",
    "customer_details[1] = \"customer's ID\"\n",
    "#Now we have added values to dictionary lets check.\n",
    "print(customer_details)"
   ]
  },
  {
   "cell_type": "markdown",
   "metadata": {},
   "source": [
    "# Chapter 30 : Removing and changing item"
   ]
  },
  {
   "cell_type": "code",
   "execution_count": 20,
   "metadata": {},
   "outputs": [
    {
     "name": "stdout",
     "output_type": "stream",
     "text": [
      "{}\n",
      "{'name': 'Asad Rasheed Lodhi', 'age': 24, 1: \"customer's ID\"}\n",
      "{'name': 'Asad Rasheed Lodhi', 1: \"customer's ID\"}\n"
     ]
    }
   ],
   "source": [
    "#we can delete an item from dictionary similar to list but the differnce is here we use key instead of index\n",
    "customer_details = {}\n",
    "print(customer_details)\n",
    "#Initially the list is empty\n",
    "#Now Adding items\n",
    "customer_details[\"name\"] = \"Asad Rasheed Lodhi\"\n",
    "customer_details[\"age\"] = 24\n",
    "customer_details[1] = \"customer's ID\"\n",
    "#Now we have added values to dictionary lets check.\n",
    "print(customer_details)\n",
    "del customer_details[\"age\"]\n",
    "print (customer_details)"
   ]
  },
  {
   "cell_type": "code",
   "execution_count": 22,
   "metadata": {},
   "outputs": [
    {
     "name": "stdout",
     "output_type": "stream",
     "text": [
      "{'name': 'Jibran Nazeer', 1: \"customer's ID\"}\n"
     ]
    }
   ],
   "source": [
    "#For modify value of item\n",
    "customer_details[\"name\"] = \"Jibran Nazeer\"\n",
    "print(customer_details)"
   ]
  },
  {
   "cell_type": "markdown",
   "metadata": {},
   "source": [
    "# Chapter 31 : Dictionaries: Looping through values"
   ]
  },
  {
   "cell_type": "code",
   "execution_count": 24,
   "metadata": {},
   "outputs": [
    {
     "name": "stdout",
     "output_type": "stream",
     "text": [
      "Asad Rasheed Lodhi\n",
      "24\n",
      "ABC Town , Karachi\n"
     ]
    }
   ],
   "source": [
    "#Consider the same Dictionary as used above\n",
    "customer_details = {\"name\":\"Asad Rasheed Lodhi\" , \"Age\" : 24 , \"Address\":\"ABC Town , Karachi\"}\n",
    "for value in customer_details.values():\n",
    "    print(value)"
   ]
  },
  {
   "cell_type": "markdown",
   "metadata": {},
   "source": [
    "#  Chapter 32 : Dictionaries: Looping through Keys"
   ]
  },
  {
   "cell_type": "code",
   "execution_count": 25,
   "metadata": {},
   "outputs": [
    {
     "name": "stdout",
     "output_type": "stream",
     "text": [
      "name\n",
      "Age\n",
      "Address\n"
     ]
    }
   ],
   "source": [
    "#Consider the same Dictionary as used above\n",
    "customer_details = {\"name\":\"Asad Rasheed Lodhi\" , \"Age\" : 24 , \"Address\":\"ABC Town , Karachi\"}\n",
    "for keys in customer_details.keys():\n",
    "    print(keys)"
   ]
  },
  {
   "cell_type": "markdown",
   "metadata": {},
   "source": [
    "# Chapter 33 : Dictionaries: Looping through keyvalue pairs"
   ]
  },
  {
   "cell_type": "code",
   "execution_count": 26,
   "metadata": {},
   "outputs": [
    {
     "name": "stdout",
     "output_type": "stream",
     "text": [
      "name : Asad Rasheed Lodhi\n",
      "Age : 24\n",
      "Address : ABC Town , Karachi\n"
     ]
    }
   ],
   "source": [
    "#Consider the same Dictionary as used above\n",
    "customer_details = {\"name\":\"Asad Rasheed Lodhi\" , \"Age\" : 24 , \"Address\":\"ABC Town , Karachi\"}\n",
    "for key,value in customer_details.items():\n",
    "    print(f\"{key} : {value}\")"
   ]
  },
  {
   "cell_type": "markdown",
   "metadata": {},
   "source": [
    "# Chapter 34 : List of Dictionaries\n"
   ]
  },
  {
   "cell_type": "code",
   "execution_count": 27,
   "metadata": {},
   "outputs": [],
   "source": [
    "#create a list of dictionaries\n",
    "students = [{\"name\" : \"Asad Rasheed Lodhi\" , \"age\" : \"23\" , \"contact_number\" : 3111234567},{\"name\" : \"Jibran Nazeer\" , \"age\" : \"24\" , \"contact_number\" : 3001234567}]"
   ]
  },
  {
   "cell_type": "code",
   "execution_count": 28,
   "metadata": {},
   "outputs": [
    {
     "name": "stdout",
     "output_type": "stream",
     "text": [
      "[{'name': 'Asad Rasheed Lodhi', 'age': '23', 'contact_number': 3111234567}, {'name': 'Jibran Nazeer', 'age': '24', 'contact_number': 3001234567}]\n"
     ]
    }
   ],
   "source": [
    "print(students)"
   ]
  },
  {
   "cell_type": "code",
   "execution_count": 29,
   "metadata": {},
   "outputs": [
    {
     "name": "stdout",
     "output_type": "stream",
     "text": [
      "{'name': 'Asad Rasheed Lodhi', 'age': '23', 'contact_number': 3111234567}\n"
     ]
    }
   ],
   "source": [
    "print(students[0])"
   ]
  },
  {
   "cell_type": "code",
   "execution_count": 31,
   "metadata": {},
   "outputs": [
    {
     "name": "stdout",
     "output_type": "stream",
     "text": [
      "Asad Rasheed Lodhi\n",
      "3001234567\n"
     ]
    }
   ],
   "source": [
    "print(students[0][\"name\"])\n",
    "print(students[1][\"contact_number\"])"
   ]
  },
  {
   "cell_type": "code",
   "execution_count": null,
   "metadata": {},
   "outputs": [],
   "source": []
  }
 ],
 "metadata": {
  "kernelspec": {
   "display_name": "Python 3",
   "language": "python",
   "name": "python3"
  },
  "language_info": {
   "codemirror_mode": {
    "name": "ipython",
    "version": 3
   },
   "file_extension": ".py",
   "mimetype": "text/x-python",
   "name": "python",
   "nbconvert_exporter": "python",
   "pygments_lexer": "ipython3",
   "version": "3.7.3"
  }
 },
 "nbformat": 4,
 "nbformat_minor": 2
}
