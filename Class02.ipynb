{
 "cells": [
  {
   "cell_type": "markdown",
   "metadata": {},
   "source": [
    "# Chapter09\n",
    "# if Statements"
   ]
  },
  {
   "cell_type": "code",
   "execution_count": 1,
   "metadata": {},
   "outputs": [
    {
     "name": "stdout",
     "output_type": "stream",
     "text": [
      "Enter your name = assad\n",
      "Hello  assad\n"
     ]
    }
   ],
   "source": [
    "name = input(\"Enter your name = \").lower()\n",
    "if (name == \"assad\"):\n",
    "    print(\"Hello \",name)\n",
    "else:\n",
    "    print(\"Who are you?\")"
   ]
  },
  {
   "cell_type": "code",
   "execution_count": 3,
   "metadata": {},
   "outputs": [
    {
     "name": "stdout",
     "output_type": "stream",
     "text": [
      "Enter your age24\n",
      "Ok !\n",
      "do you have NIC? yes\n",
      "Good , You can cast vote !\n"
     ]
    }
   ],
   "source": [
    "age =  int(input(\"Enter your age\"))\n",
    "if age >= 18:\n",
    "    print(\"Ok !\")\n",
    "    nic = input(\"do you have NIC? \").lower()\n",
    "    if nic == \"yes\":\n",
    "        print(\"Good , You can cast vote !\")\n",
    "    else:\n",
    "        print(\"You can't cast vote without NIC\")\n",
    "else:\n",
    "    print(\"You Can't cast vote\")"
   ]
  },
  {
   "cell_type": "markdown",
   "metadata": {},
   "source": [
    "# Chapter10\n",
    "# Comparison Operators"
   ]
  },
  {
   "cell_type": "code",
   "execution_count": 4,
   "metadata": {},
   "outputs": [
    {
     "name": "stdout",
     "output_type": "stream",
     "text": [
      "Enter your username = Assad\n",
      "Enter your password = admin\n",
      "Login Successful\n"
     ]
    }
   ],
   "source": [
    "userName = input(\"Enter your username = \")\n",
    "password = input(\"Enter your password = \")\n",
    "\n",
    "if userName == \"Assad\" and password == \"admin\":\n",
    "    print(\"Login Successful\")\n",
    "else:\n",
    "    print(\"Incorrect Username or Password\")"
   ]
  },
  {
   "cell_type": "code",
   "execution_count": 5,
   "metadata": {},
   "outputs": [
    {
     "name": "stdout",
     "output_type": "stream",
     "text": [
      "Enter your username = Assad\n",
      "Enter your password = admin\n",
      "Login Successful !\n"
     ]
    }
   ],
   "source": [
    "userName = input(\"Enter your username = \")\n",
    "password = input(\"Enter your password = \")\n",
    "\n",
    "if userName != \"Assad\" or password != \"admin\":\n",
    "    print(\"Incorrect Username or Password\")\n",
    "else:\n",
    "    print(\"Login Successful !\")"
   ]
  },
  {
   "cell_type": "code",
   "execution_count": 6,
   "metadata": {},
   "outputs": [
    {
     "name": "stdout",
     "output_type": "stream",
     "text": [
      "Enter first num = 23\n",
      "Enter 2nd num = 25\n",
      "num2 is greater than num1\n"
     ]
    }
   ],
   "source": [
    "num1 = int(input(\"Enter first num = \"))\n",
    "num2 = int(input(\"Enter 2nd num = \"))\n",
    "\n",
    "if num1 > num2:\n",
    "    print(\"num1 is grater than num2\")\n",
    "if num2 > num1:\n",
    "    print(\"num2 is greater than num1\")\n",
    "if num1 == num2:\n",
    "    print(\"num1 is equal to num2\")"
   ]
  },
  {
   "cell_type": "markdown",
   "metadata": {},
   "source": [
    "# Chapter11\n",
    "# else and elif statements"
   ]
  },
  {
   "cell_type": "code",
   "execution_count": 7,
   "metadata": {},
   "outputs": [
    {
     "name": "stdout",
     "output_type": "stream",
     "text": [
      "Enter first num = 4\n",
      "Enter 2nd num = 2\n",
      "num1 is grater than num2\n"
     ]
    }
   ],
   "source": [
    "num1 = int(input(\"Enter first num = \"))\n",
    "num2 = int(input(\"Enter 2nd num = \"))\n",
    "\n",
    "if num1 > num2:\n",
    "    print(\"num1 is grater than num2\")\n",
    "elif num2 > num1:\n",
    "    print(\"num2 is greater than num1\")\n",
    "elif num1 == num2:\n",
    "    print(\"num1 is equal to num2\")\n",
    "else:\n",
    "    print(\"Wrong Input\")"
   ]
  },
  {
   "cell_type": "markdown",
   "metadata": {},
   "source": [
    "# Chapter12\n",
    "# Testing sets of conditions"
   ]
  },
  {
   "cell_type": "code",
   "execution_count": 8,
   "metadata": {},
   "outputs": [
    {
     "name": "stdout",
     "output_type": "stream",
     "text": [
      "Enter your username = Assad\n",
      "Enter your password = aaaa\n",
      "Incorrect Username or Password\n"
     ]
    }
   ],
   "source": [
    "userName = input(\"Enter your username = \")\n",
    "password = input(\"Enter your password = \")\n",
    "\n",
    "if userName == \"Assad\" and password == \"admin\":\n",
    "    print(\"Login Successful\")\n",
    "else:\n",
    "    print(\"Incorrect Username or Password\")"
   ]
  },
  {
   "cell_type": "code",
   "execution_count": 9,
   "metadata": {},
   "outputs": [
    {
     "name": "stdout",
     "output_type": "stream",
     "text": [
      "Enter your username = Assad\n",
      "Enter your password = admin\n",
      "Login Successful !\n"
     ]
    }
   ],
   "source": [
    "userName = input(\"Enter your username = \")\n",
    "password = input(\"Enter your password = \")\n",
    "\n",
    "if userName != \"Assad\" or password != \"admin\":\n",
    "    print(\"Incorrect Username or Password\")\n",
    "else:\n",
    "    print(\"Login Successful !\")"
   ]
  },
  {
   "cell_type": "markdown",
   "metadata": {},
   "source": [
    "# Chapter13\n",
    "# if statements nested"
   ]
  },
  {
   "cell_type": "code",
   "execution_count": 10,
   "metadata": {},
   "outputs": [
    {
     "name": "stdout",
     "output_type": "stream",
     "text": [
      "Enter your age24\n",
      "Ok !\n",
      "do you have NIC? no\n",
      "You can't cast vote without NIC\n"
     ]
    }
   ],
   "source": [
    "age =  int(input(\"Enter your age\"))\n",
    "if age >= 18:\n",
    "    print(\"Ok !\")\n",
    "    nic = input(\"do you have NIC? \").lower()\n",
    "    if nic == \"yes\":\n",
    "        print(\"Good , You can cast vote !\")\n",
    "    else:\n",
    "        print(\"You can't cast vote without NIC\")\n",
    "else:\n",
    "    print(\"You Can't cast vote\")"
   ]
  },
  {
   "cell_type": "code",
   "execution_count": 11,
   "metadata": {},
   "outputs": [
    {
     "name": "stdout",
     "output_type": "stream",
     "text": [
      "Enter first num = 50\n",
      "Enter 2nd num = 2\n",
      "num1 is grater than num2\n"
     ]
    }
   ],
   "source": [
    "num1 = int(input(\"Enter first num = \"))\n",
    "num2 = int(input(\"Enter 2nd num = \"))\n",
    "\n",
    "if num1 > num2:\n",
    "    print(\"num1 is grater than num2\")\n",
    "elif num2 > num1:\n",
    "    print(\"num2 is greater than num1\")\n",
    "elif num1 == num2:\n",
    "    print(\"num1 is equal to num2\")\n",
    "else:\n",
    "    print(\"Wrong Input\")"
   ]
  },
  {
   "cell_type": "markdown",
   "metadata": {},
   "source": [
    "# Chapter14\n",
    "# Comments"
   ]
  },
  {
   "cell_type": "code",
   "execution_count": 12,
   "metadata": {},
   "outputs": [],
   "source": [
    "#Single Line Comment"
   ]
  },
  {
   "cell_type": "code",
   "execution_count": 13,
   "metadata": {},
   "outputs": [
    {
     "data": {
      "text/plain": [
       "'Multi Line comment\\nYou can comment multiple lines using the Triple quote marks'"
      ]
     },
     "execution_count": 13,
     "metadata": {},
     "output_type": "execute_result"
    }
   ],
   "source": [
    "'''Multi Line comment\n",
    "You can comment multiple lines using the Triple quote marks'''"
   ]
  }
 ],
 "metadata": {
  "kernelspec": {
   "display_name": "Python 3",
   "language": "python",
   "name": "python3"
  },
  "language_info": {
   "codemirror_mode": {
    "name": "ipython",
    "version": 3
   },
   "file_extension": ".py",
   "mimetype": "text/x-python",
   "name": "python",
   "nbconvert_exporter": "python",
   "pygments_lexer": "ipython3",
   "version": "3.7.3"
  }
 },
 "nbformat": 4,
 "nbformat_minor": 2
}
