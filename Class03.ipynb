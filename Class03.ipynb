{
 "cells": [
  {
   "cell_type": "markdown",
   "metadata": {},
   "source": [
    "# Chapter 15 To Chapter 19\n",
    "# List\n",
    "# List Operation (Append , Insert , Remove , del , pop , Count , Index , Copy , Sort)"
   ]
  },
  {
   "cell_type": "code",
   "execution_count": 7,
   "metadata": {},
   "outputs": [
    {
     "name": "stdout",
     "output_type": "stream",
     "text": [
      "['Karachi', 'Hyderabad', 'Lahore', 'Islamabad', 'Multan']\n"
     ]
    }
   ],
   "source": [
    "# List definition\n",
    "cities = [\"Karachi\" , \"Hyderabad\" , \"Lahore\", \"Islamabad\" , \"Multan\"]\n",
    "print(cities)"
   ]
  },
  {
   "cell_type": "code",
   "execution_count": 8,
   "metadata": {},
   "outputs": [
    {
     "name": "stdout",
     "output_type": "stream",
     "text": [
      "Karachi\n",
      "Islamabad\n"
     ]
    }
   ],
   "source": [
    "# Accessing List elements using index\n",
    "print(cities[0])\n",
    "print(cities[3])"
   ]
  },
  {
   "cell_type": "code",
   "execution_count": 9,
   "metadata": {},
   "outputs": [
    {
     "name": "stdout",
     "output_type": "stream",
     "text": [
      "['Karachi', 'Hyderabad', 'Lahore', 'Islamabad', 'Multan', 'Faisalabad', 'Larkana']\n"
     ]
    }
   ],
   "source": [
    "# Adding Elements at the end of list\n",
    "cities.append(\"Faisalabad\")\n",
    "cities.append(\"Larkana\")\n",
    "print(cities)"
   ]
  },
  {
   "cell_type": "code",
   "execution_count": 10,
   "metadata": {},
   "outputs": [
    {
     "name": "stdout",
     "output_type": "stream",
     "text": [
      "['Karachi', 'Hyderabad', 'Lahore', 'Islamabad', 'Multan', 'Faisalabad', 'Larkana', 'Bhawalpur', 'Attock']\n"
     ]
    }
   ],
   "source": [
    "# Another way of adding elements to list, It allows you to add more than one element\n",
    "cities = cities + [\"Bhawalpur\" , \"Attock\"]\n",
    "print(cities)"
   ]
  },
  {
   "cell_type": "code",
   "execution_count": 11,
   "metadata": {},
   "outputs": [
    {
     "name": "stdout",
     "output_type": "stream",
     "text": [
      "['Karachi', 'Hyderabad', 'Sargodha', 'Lahore', 'Islamabad', 'Multan', 'Faisalabad', 'Larkana', 'Bhawalpur', 'Attock']\n"
     ]
    }
   ],
   "source": [
    "# Adding Element at a specific index\n",
    "cities.insert(2,\"Sargodha\")\n",
    "print(cities)"
   ]
  },
  {
   "cell_type": "code",
   "execution_count": 12,
   "metadata": {},
   "outputs": [
    {
     "name": "stdout",
     "output_type": "stream",
     "text": [
      "['Karachi', 'Hyderabad', 'Sargodha', 'Lahore']\n"
     ]
    }
   ],
   "source": [
    "# Copy Consecutive Elements of list to another List / Slicing\n",
    "# Make a new list and Copy elements from karachi to Lahore in new_list\n",
    "new_list = cities[0:4]\n",
    "print(new_list)"
   ]
  },
  {
   "cell_type": "code",
   "execution_count": 13,
   "metadata": {},
   "outputs": [
    {
     "name": "stdout",
     "output_type": "stream",
     "text": [
      "['Karachi', 'Hyderabad', 'Sargodha', 'Lahore', 'Islamabad', 'Multan']\n"
     ]
    }
   ],
   "source": [
    "# You can omit the initial index while slicing in case when you want to copy from first element of list\n",
    "# Make a new list and Copy elements from karachi to Multan\n",
    "new_list = cities[:6]\n",
    "print(new_list)"
   ]
  },
  {
   "cell_type": "code",
   "execution_count": 14,
   "metadata": {},
   "outputs": [
    {
     "name": "stdout",
     "output_type": "stream",
     "text": [
      "['Multan', 'Faisalabad', 'Larkana', 'Bhawalpur', 'Attock']\n"
     ]
    }
   ],
   "source": [
    "# You can omit the final index while slicing in case when you want to copy to the last element of list\n",
    "# Make a new list and Copy elements from Multan to Attock\n",
    "new_list = cities[5:]\n",
    "print(new_list)"
   ]
  },
  {
   "cell_type": "code",
   "execution_count": 16,
   "metadata": {},
   "outputs": [
    {
     "name": "stdout",
     "output_type": "stream",
     "text": [
      "['Karachi', 'Hyderabad', 'Sargodha', 'Lahore', 'Islamabad', 'Multan', 'Faisalabad', 'Larkana', 'Bhawalpur', 'Attock']\n",
      "['Karachi', 'Hyderabad', 'Lahore', 'Islamabad', 'Multan', 'Faisalabad', 'Larkana', 'Bhawalpur', 'Attock']\n"
     ]
    }
   ],
   "source": [
    "#Delete By Index\n",
    "# Deleting an element at specific index And Python will automatically update index of all the elements\n",
    "print(cities)\n",
    "# Delete Sargodha from list\n",
    "del cities[2]\n",
    "print(cities)"
   ]
  },
  {
   "cell_type": "code",
   "execution_count": 18,
   "metadata": {},
   "outputs": [
    {
     "name": "stdout",
     "output_type": "stream",
     "text": [
      "['Karachi', 'Hyderabad', 'Lahore', 'Islamabad', 'Multan', 'Faisalabad', 'Larkana', 'Bhawalpur', 'Attock']\n",
      "['Karachi', 'Hyderabad', 'Lahore', 'Islamabad', 'Multan', 'Faisalabad', 'Bhawalpur', 'Attock']\n"
     ]
    }
   ],
   "source": [
    "# Delete By Value\n",
    "# Delete an elements from the list which Matches the elements in list And python automatically update index\n",
    "print(cities)\n",
    "# It will remove Larkana Elements from list cities\n",
    "cities.remove(\"Larkana\")\n",
    "print(cities)"
   ]
  },
  {
   "cell_type": "code",
   "execution_count": 20,
   "metadata": {},
   "outputs": [
    {
     "name": "stdout",
     "output_type": "stream",
     "text": [
      "['Karachi', 'Hyderabad', 'Lahore', 'Islamabad', 'Multan', 'Faisalabad', 'Bhawalpur', 'Attock']\n",
      "Attock\n"
     ]
    }
   ],
   "source": [
    "# Pop the Last element of List and add it to new list and also removing from the first list\n",
    "print(cities)\n",
    "# Pop attock from list cities and add it to new_list\n",
    "new_list = cities.pop()\n",
    "print(new_list)\n",
    "# Now the element Pop has removed from cities list and also add in new_list"
   ]
  },
  {
   "cell_type": "code",
   "execution_count": 22,
   "metadata": {},
   "outputs": [
    {
     "name": "stdout",
     "output_type": "stream",
     "text": [
      "['Karachi', 'Hyderabad', 'Lahore', 'Islamabad', 'Multan', 'Faisalabad', 'Bhawalpur']\n",
      "['Karachi', 'Lahore', 'Islamabad', 'Multan', 'Faisalabad', 'Bhawalpur']\n",
      "Hyderabad\n"
     ]
    }
   ],
   "source": [
    "# You can also pop an element from an specific index by giving index in pop function, the default index of pop is -1(last Element)\n",
    "print(cities)\n",
    "# Pop Hyderabad from cities and add it to new_list\n",
    "new_list = cities.pop(1)\n",
    "print(cities)\n",
    "print(new_list)"
   ]
  },
  {
   "cell_type": "code",
   "execution_count": 27,
   "metadata": {},
   "outputs": [
    {
     "name": "stdout",
     "output_type": "stream",
     "text": [
      "['Karachi', 'Lahore', 'Islamabad', 'Multan', 'Faisalabad', 'Bhawalpur', 'Attock']\n",
      "[]\n",
      "['Karachi', 'Lahore', 'Islamabad', 'Multan', 'Faisalabad', 'Bhawalpur', 'Attock']\n",
      "['Karachi', 'Lahore', 'Islamabad', 'Multan', 'Faisalabad', 'Bhawalpur', 'Attock']\n",
      "['Karachi', 'Lahore', 'Islamabad', 'Multan', 'Faisalabad', 'Bhawalpur', 'Attock', 'Attock']\n",
      "['Karachi', 'Lahore', 'Islamabad', 'Multan', 'Faisalabad', 'Bhawalpur', 'Attock']\n"
     ]
    }
   ],
   "source": [
    "# Additional List Operations\n",
    "# Copy cities list to new_list\n",
    "# Copy By Value , Changing in one list will not effect other\n",
    "new_list.clear()\n",
    "print(cities)\n",
    "print(new_list)\n",
    "new_list = cities.copy()\n",
    "print(cities)\n",
    "print(new_list)\n",
    "cities.append(\"Attock\")\n",
    "print(cities)\n",
    "print(new_list)"
   ]
  },
  {
   "cell_type": "code",
   "execution_count": 28,
   "metadata": {},
   "outputs": [
    {
     "name": "stdout",
     "output_type": "stream",
     "text": [
      "['Karachi', 'Lahore', 'Islamabad', 'Multan', 'Faisalabad', 'Bhawalpur', 'Attock', 'Attock']\n",
      "[]\n",
      "['Karachi', 'Lahore', 'Islamabad', 'Multan', 'Faisalabad', 'Bhawalpur', 'Attock', 'Attock']\n",
      "['Karachi', 'Lahore', 'Islamabad', 'Multan', 'Faisalabad', 'Bhawalpur', 'Attock', 'Attock']\n",
      "['Karachi', 'Lahore', 'Islamabad', 'Multan', 'Faisalabad', 'Bhawalpur', 'Attock', 'Attock', 'HyderAbad']\n",
      "['Karachi', 'Lahore', 'Islamabad', 'Multan', 'Faisalabad', 'Bhawalpur', 'Attock', 'Attock']\n"
     ]
    }
   ],
   "source": [
    "# Another way of Copying Whole list to Another list\n",
    "new_list.clear()\n",
    "print(cities)\n",
    "print(new_list)\n",
    "new_list = cities[:]\n",
    "print(cities)\n",
    "print(new_list)\n",
    "cities.append(\"HyderAbad\")\n",
    "print(cities)\n",
    "print(new_list)"
   ]
  },
  {
   "cell_type": "code",
   "execution_count": 30,
   "metadata": {},
   "outputs": [
    {
     "name": "stdout",
     "output_type": "stream",
     "text": [
      "['Karachi', 'Lahore', 'Islamabad', 'Multan', 'Faisalabad', 'Bhawalpur', 'Attock', 'Attock', 'HyderAbad']\n",
      "[]\n",
      "['Karachi', 'Lahore', 'Islamabad', 'Multan', 'Faisalabad', 'Bhawalpur', 'Attock', 'Attock', 'HyderAbad']\n",
      "['Karachi', 'Lahore', 'Islamabad', 'Multan', 'Faisalabad', 'Bhawalpur', 'Attock', 'Attock', 'HyderAbad']\n",
      "['Karachi', 'Lahore', 'Islamabad', 'Multan', 'Faisalabad', 'Bhawalpur', 'Attock', 'HyderAbad']\n",
      "['Karachi', 'Lahore', 'Islamabad', 'Multan', 'Faisalabad', 'Bhawalpur', 'Attock', 'HyderAbad']\n"
     ]
    }
   ],
   "source": [
    "# Copy cities list to new_list\n",
    "# Copy By Reference Changing in One list will effect other\n",
    "new_list.clear()\n",
    "print(cities)\n",
    "print(new_list)\n",
    "new_list = cities\n",
    "print(cities)\n",
    "print(new_list)\n",
    "cities.remove(\"Attock\")\n",
    "print(cities)\n",
    "print(new_list)"
   ]
  },
  {
   "cell_type": "code",
   "execution_count": 31,
   "metadata": {},
   "outputs": [
    {
     "name": "stdout",
     "output_type": "stream",
     "text": [
      "4\n"
     ]
    }
   ],
   "source": [
    "# Additional Operation\n",
    "# You can find Index of an element\n",
    "print(cities.index(\"Faisalabad\"))"
   ]
  },
  {
   "cell_type": "code",
   "execution_count": 34,
   "metadata": {},
   "outputs": [
    {
     "name": "stdout",
     "output_type": "stream",
     "text": [
      "1\n",
      "2\n"
     ]
    }
   ],
   "source": [
    "# Addition Operation\n",
    "# Count occurance of specific element in list\n",
    "print(cities.count(\"Karachi\"))\n",
    "cities.append(\"Karachi\")\n",
    "print(cities.count(\"Karachi\"))"
   ]
  },
  {
   "cell_type": "code",
   "execution_count": 37,
   "metadata": {},
   "outputs": [
    {
     "name": "stdout",
     "output_type": "stream",
     "text": [
      "[1, 2, 3, 4, 5, 6, 7, 8, 9]\n",
      "[9, 8, 7, 6, 5, 4, 3, 2, 1]\n"
     ]
    }
   ],
   "source": [
    "# Sort Operation\n",
    "numbers = [1,2,3,4,5,6,7,8,9]\n",
    "print(numbers)\n",
    "# Descending Order\n",
    "numbers.sort(reverse=True)\n",
    "print(numbers)"
   ]
  },
  {
   "cell_type": "code",
   "execution_count": null,
   "metadata": {},
   "outputs": [],
   "source": []
  }
 ],
 "metadata": {
  "kernelspec": {
   "display_name": "Python 3",
   "language": "python",
   "name": "python3"
  },
  "language_info": {
   "codemirror_mode": {
    "name": "ipython",
    "version": 3
   },
   "file_extension": ".py",
   "mimetype": "text/x-python",
   "name": "python",
   "nbconvert_exporter": "python",
   "pygments_lexer": "ipython3",
   "version": "3.7.3"
  }
 },
 "nbformat": 4,
 "nbformat_minor": 2
}
